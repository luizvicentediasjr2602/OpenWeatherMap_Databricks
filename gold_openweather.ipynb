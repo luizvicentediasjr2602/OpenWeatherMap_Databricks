{
 "cells": [
  {
   "cell_type": "code",
   "execution_count": 0,
   "metadata": {
    "application/vnd.databricks.v1+cell": {
     "cellMetadata": {
      "byteLimit": 2048000,
      "rowLimit": 10000
     },
     "inputWidgets": {},
     "nuid": "361845a7-eb7e-44ef-ad39-9784e122d13b",
     "showTitle": false,
     "tableResultSettingsMap": {},
     "title": ""
    }
   },
   "outputs": [],
   "source": [
    "import pyspark.sql.types as T\n",
    "from pyspark.sql import functions as F\n",
    "from delta.tables import DeltaTable"
   ]
  },
  {
   "cell_type": "code",
   "execution_count": 0,
   "metadata": {
    "application/vnd.databricks.v1+cell": {
     "cellMetadata": {
      "byteLimit": 2048000,
      "rowLimit": 10000
     },
     "inputWidgets": {},
     "nuid": "1e0a4442-e763-4f2a-81eb-0bcb52f298c3",
     "showTitle": false,
     "tableResultSettingsMap": {},
     "title": ""
    }
   },
   "outputs": [],
   "source": [
    "silver = spark.table(\"workspace.weather.silver_openweather\")\n",
    "\n",
    "silver = silver.withColumn(\"data\", F.to_date(F.col(\"data_observacao\")))\n",
    "\n",
    "ultima_data = silver.agg(F.max(\"data\").alias(\"d\")).first()[\"d\"]\n",
    "if ultima_data is None:\n",
    "    raise ValueError(\"Silver sem dados para agregar.\")\n",
    "\n",
    "janela = silver.filter(F.col(\"data\") == F.lit(ultima_data))\n",
    "\n",
    "\n",
    "kpis = (janela.groupBy(\"id_cidade\",\"nome_cidade\",\"data\")\n",
    "               .agg(\n",
    "                   F.avg(\"temperatura_c\").alias(\"temp_media\"),\n",
    "                   F.min(\"temperatura_min_c\").alias(\"temp_min\"),\n",
    "                   F.max(\"temperatura_max_c\").alias(\"temp_max\"),\n",
    "                   F.avg(\"umidade_pct\").alias(\"umidade_media\"),\n",
    "                   F.avg(\"velocidade_vento_ms\").alias(\"velocidade_vento_media\"),\n",
    "                   F.count(F.lit(1)).alias(\"n_observacoes\")\n",
    "               )\n",
    "               .select(\"id_cidade\",\"nome_cidade\",\"data\",\n",
    "                       \"temp_media\",\"temp_min\",\"temp_max\",\n",
    "                       \"umidade_media\",\"velocidade_vento_media\",\"n_observacoes\")\n",
    ")\n",
    "\n",
    "DeltaTable.forName(spark, \"workspace.weather.gold_weather_kpis_diarios\") \\\n",
    "  .alias(\"t\") \\\n",
    "  .merge(kpis.alias(\"s\"), \"t.id_cidade = s.id_cidade AND t.data = s.data\") \\\n",
    "  .whenMatchedUpdateAll() \\\n",
    "  .whenNotMatchedInsertAll() \\\n",
    "  .execute()"
   ]
  },
  {
   "cell_type": "code",
   "execution_count": 0,
   "metadata": {
    "application/vnd.databricks.v1+cell": {
     "cellMetadata": {
      "byteLimit": 2048000,
      "rowLimit": 10000
     },
     "inputWidgets": {},
     "nuid": "f3edd1c1-2471-49b3-98e9-c09ce65984d5",
     "showTitle": false,
     "tableResultSettingsMap": {},
     "title": ""
    }
   },
   "outputs": [],
   "source": [
    "display(\n",
    "  spark.table(\"workspace.weather.gold_weather_kpis_diarios\")\n",
    "       .orderBy(F.col(\"data\").desc(), F.col(\"nome_cidade\"))\n",
    "       .limit(30))"
   ]
  }
 ],
 "metadata": {
  "application/vnd.databricks.v1+notebook": {
   "computePreferences": null,
   "dashboards": [],
   "environmentMetadata": {
    "base_environment": "",
    "environment_version": "3"
   },
   "inputWidgetPreferences": null,
   "language": "python",
   "notebookMetadata": {
    "mostRecentlyExecutedCommandWithImplicitDF": {
     "commandId": 6590701826869148,
     "dataframes": [
      "_sqldf"
     ]
    },
    "pythonIndentUnit": 4
   },
   "notebookName": "gold_openweather",
   "widgets": {}
  },
  "language_info": {
   "name": "python"
  }
 },
 "nbformat": 4,
 "nbformat_minor": 0
}
