{
 "cells": [
  {
   "cell_type": "markdown",
   "metadata": {
    "application/vnd.databricks.v1+cell": {
     "cellMetadata": {},
     "inputWidgets": {},
     "nuid": "bdade105-b2dc-4f3b-b537-2b44c482be23",
     "showTitle": false,
     "tableResultSettingsMap": {},
     "title": ""
    }
   },
   "source": [
    "# 1.0 Tabelas "
   ]
  },
  {
   "cell_type": "code",
   "execution_count": 0,
   "metadata": {
    "application/vnd.databricks.v1+cell": {
     "cellMetadata": {
      "byteLimit": 2048000,
      "implicitDf": true,
      "rowLimit": 10000
     },
     "inputWidgets": {},
     "nuid": "371ee77f-2eff-46d0-b043-e790f4a4464e",
     "showTitle": false,
     "tableResultSettingsMap": {},
     "title": ""
    }
   },
   "outputs": [],
   "source": [
    "%sql\n",
    "USE CATALOG workspace;\n",
    "CREATE SCHEMA IF NOT EXISTS weather COMMENT 'Lakehouse OpenWeather';\n",
    "USE SCHEMA weather;\n",
    "\n",
    "-- -----------------------------\n",
    "-- BRONZE\n",
    "-- -----------------------------\n",
    "CREATE TABLE IF NOT EXISTS bronze_openweather_raw (\n",
    "  city_id           STRING,\n",
    "  json_line         STRING,\n",
    "  obs_ts_utc        TIMESTAMP,\n",
    "  ingestion_ts_utc  TIMESTAMP,\n",
    "  ingestion_date    DATE\n",
    ")\n",
    "USING DELTA\n",
    "PARTITIONED BY (ingestion_date)\n",
    "COMMENT 'Raw da API OpenWeather';\n",
    "\n",
    "-- -----------------------------\n",
    "-- LOGS\n",
    "-- -----------------------------\n",
    "CREATE TABLE IF NOT EXISTS ingestion_logs (\n",
    "  id_execucao              STRING,\n",
    "  data_inicio              TIMESTAMP,\n",
    "  data_fim                 TIMESTAMP,\n",
    "  duracao_segundos         DOUBLE,\n",
    "  data_ingestao            DATE,\n",
    "  cidades_alvo             INT,\n",
    "  registros_tentados       INT,\n",
    "  registros_no_lote        INT,\n",
    "  registros_ja_existentes  INT,\n",
    "  registros_inseridos      INT,\n",
    "  status                   STRING,\n",
    "  mensagem_erro            STRING\n",
    ")\n",
    "USING DELTA\n",
    "PARTITIONED BY (data_ingestao)\n",
    "COMMENT 'Logs de ingestão do Bronze';\n",
    "\n",
    "-- -----------------------------\n",
    "-- SILVER\n",
    "-- -----------------------------\n",
    "CREATE TABLE IF NOT EXISTS silver_openweather (\n",
    "  id_cidade                 BIGINT,\n",
    "  nome_cidade               STRING,\n",
    "  latitude                  DOUBLE,\n",
    "  longitude                 DOUBLE,\n",
    "  temperatura_c             DOUBLE,\n",
    "  sensacao_c                DOUBLE,\n",
    "  temperatura_min_c         DOUBLE,\n",
    "  temperatura_max_c         DOUBLE,\n",
    "  umidade_pct               DOUBLE,\n",
    "  pressao_hpa               DOUBLE,\n",
    "  pressao_nivel_mar_hpa     DOUBLE,\n",
    "  pressao_nivel_solo_hpa    DOUBLE,\n",
    "  visibilidade_m            BIGINT,\n",
    "  velocidade_vento_ms       DOUBLE,\n",
    "  vento_graus               DOUBLE,\n",
    "  rajada_vento_ms           DOUBLE,\n",
    "  nuvens_pct                BIGINT,\n",
    "  condicao                  STRING,\n",
    "  condicao_desc             STRING,\n",
    "  data_observacao           TIMESTAMP,\n",
    "  data_ingestao             DATE\n",
    ")\n",
    "USING DELTA\n",
    "PARTITIONED BY (data_ingestao)\n",
    "COMMENT 'Normalização dos dados';\n",
    "\n",
    "-- -----------------------------\n",
    "-- GOLD\n",
    "-- -----------------------------\n",
    "CREATE TABLE IF NOT EXISTS gold_weather_kpis_diarios (\n",
    "  id_cidade               BIGINT,\n",
    "  nome_cidade             STRING,\n",
    "  data                    DATE,\n",
    "  temp_media              DOUBLE,\n",
    "  temp_min                DOUBLE,\n",
    "  temp_max                DOUBLE,\n",
    "  umidade_media           DOUBLE,\n",
    "  velocidade_vento_media  DOUBLE,\n",
    "  n_observacoes           BIGINT\n",
    ")\n",
    "USING DELTA\n",
    "PARTITIONED BY (data)\n",
    "COMMENT 'KPIs diários';\n"
   ]
  },
  {
   "cell_type": "code",
   "execution_count": 0,
   "metadata": {
    "application/vnd.databricks.v1+cell": {
     "cellMetadata": {},
     "inputWidgets": {},
     "nuid": "7663c647-f2d9-4005-aafa-472fff66b0ae",
     "showTitle": false,
     "tableResultSettingsMap": {},
     "title": ""
    }
   },
   "outputs": [],
   "source": []
  }
 ],
 "metadata": {
  "application/vnd.databricks.v1+notebook": {
   "computePreferences": null,
   "dashboards": [],
   "environmentMetadata": {
    "base_environment": "",
    "environment_version": "4"
   },
   "inputWidgetPreferences": null,
   "language": "python",
   "notebookMetadata": {
    "mostRecentlyExecutedCommandWithImplicitDF": {
     "commandId": 5754409265092650,
     "dataframes": [
      "_sqldf"
     ]
    },
    "pythonIndentUnit": 4
   },
   "notebookName": "Criação de estruturas",
   "widgets": {}
  },
  "language_info": {
   "name": "python"
  }
 },
 "nbformat": 4,
 "nbformat_minor": 0
}
