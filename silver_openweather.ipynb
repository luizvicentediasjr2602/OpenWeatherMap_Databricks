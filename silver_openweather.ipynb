{
 "cells": [
  {
   "cell_type": "markdown",
   "metadata": {
    "application/vnd.databricks.v1+cell": {
     "cellMetadata": {},
     "inputWidgets": {},
     "nuid": "09f65d75-52dc-4b76-892c-4b5602ee4dab",
     "showTitle": false,
     "tableResultSettingsMap": {},
     "title": ""
    }
   },
   "source": [
    "## 1.0 Definição de schema\n",
    "\n"
   ]
  },
  {
   "cell_type": "code",
   "execution_count": 0,
   "metadata": {
    "application/vnd.databricks.v1+cell": {
     "cellMetadata": {
      "byteLimit": 2048000,
      "rowLimit": 10000
     },
     "inputWidgets": {},
     "nuid": "149200a0-07bc-4b36-a198-4325cee55818",
     "showTitle": false,
     "tableResultSettingsMap": {},
     "title": ""
    }
   },
   "outputs": [],
   "source": [
    "spark.sql(\"USE CATALOG workspace\")\n",
    "spark.sql(\"USE SCHEMA weather\")\n",
    "\n",
    "from pyspark.sql import functions as F, types as T\n"
   ]
  },
  {
   "cell_type": "markdown",
   "metadata": {
    "application/vnd.databricks.v1+cell": {
     "cellMetadata": {},
     "inputWidgets": {},
     "nuid": "970c0cb0-f509-46ac-b54d-9fa2bd2da01a",
     "showTitle": false,
     "tableResultSettingsMap": {},
     "title": ""
    }
   },
   "source": [
    "### 1.1 Processamento do último lote"
   ]
  },
  {
   "cell_type": "code",
   "execution_count": 0,
   "metadata": {
    "application/vnd.databricks.v1+cell": {
     "cellMetadata": {
      "byteLimit": 2048000,
      "rowLimit": 10000
     },
     "inputWidgets": {},
     "nuid": "a08e3c5f-72de-4f73-bcad-28d010dc9db7",
     "showTitle": false,
     "tableResultSettingsMap": {},
     "title": ""
    }
   },
   "outputs": [],
   "source": [
    "df_bronze = spark.table(\"workspace.weather.bronze_openweather_raw\")\n",
    "\n",
    "ult_dia = df_bronze.agg(F.max(\"ingestion_date\").alias(\"d\")).first()[\"d\"]\n",
    "\n",
    "df_bronze_dia = df_bronze.filter(F.col(\"ingestion_date\") == F.lit(ult_dia))\n",
    "ultimo_lote   = df_bronze_dia.agg(F.max(\"ingestion_ts_utc\").alias(\"ts\")).first()[\"ts\"]\n",
    "\n",
    "df_bronze = df_bronze_dia.filter(F.col(\"ingestion_ts_utc\") == F.lit(ultimo_lote))"
   ]
  },
  {
   "cell_type": "markdown",
   "metadata": {
    "application/vnd.databricks.v1+cell": {
     "cellMetadata": {},
     "inputWidgets": {},
     "nuid": "34e4b4a5-8adf-49eb-a5d4-428f3a368e80",
     "showTitle": false,
     "tableResultSettingsMap": {},
     "title": ""
    }
   },
   "source": [
    "## 2.0 Definição do schema"
   ]
  },
  {
   "cell_type": "code",
   "execution_count": 0,
   "metadata": {
    "application/vnd.databricks.v1+cell": {
     "cellMetadata": {
      "byteLimit": 2048000,
      "rowLimit": 10000
     },
     "inputWidgets": {},
     "nuid": "8853a7db-66ca-4dc9-a76d-b4f23051c875",
     "showTitle": false,
     "tableResultSettingsMap": {},
     "title": ""
    }
   },
   "outputs": [],
   "source": [
    "weather_schema = T.StructType([\n",
    "    T.StructField(\"coord\", T.StructType([\n",
    "        T.StructField(\"lon\", T.DoubleType()),\n",
    "        T.StructField(\"lat\", T.DoubleType())\n",
    "    ])),\n",
    "    T.StructField(\"weather\", T.ArrayType(T.StructType([\n",
    "        T.StructField(\"id\", T.LongType()),\n",
    "        T.StructField(\"main\", T.StringType()),\n",
    "        T.StructField(\"description\", T.StringType()),\n",
    "        T.StructField(\"icon\", T.StringType())\n",
    "    ]))),\n",
    "    T.StructField(\"base\", T.StringType()),\n",
    "    T.StructField(\"main\", T.StructType([\n",
    "        T.StructField(\"temp\", T.DoubleType()),\n",
    "        T.StructField(\"feels_like\", T.DoubleType()),\n",
    "        T.StructField(\"temp_min\", T.DoubleType()),\n",
    "        T.StructField(\"temp_max\", T.DoubleType()),\n",
    "        T.StructField(\"pressure\", T.DoubleType()),\n",
    "        T.StructField(\"humidity\", T.DoubleType()),\n",
    "        T.StructField(\"sea_level\", T.DoubleType()),   \n",
    "        T.StructField(\"grnd_level\", T.DoubleType()) \n",
    "    ])),\n",
    "    T.StructField(\"visibility\", T.LongType()),\n",
    "    T.StructField(\"wind\", T.StructType([\n",
    "        T.StructField(\"speed\", T.DoubleType()),\n",
    "        T.StructField(\"deg\", T.DoubleType()),\n",
    "        T.StructField(\"gust\", T.DoubleType())         \n",
    "    ])),\n",
    "    T.StructField(\"clouds\", T.StructType([\n",
    "        T.StructField(\"all\", T.LongType())\n",
    "    ])),\n",
    "    T.StructField(\"dt\", T.LongType()),\n",
    "    T.StructField(\"sys\", T.StructType([\n",
    "        T.StructField(\"country\", T.StringType()),\n",
    "        T.StructField(\"sunrise\", T.LongType()),\n",
    "        T.StructField(\"sunset\", T.LongType())\n",
    "    ])),\n",
    "    T.StructField(\"timezone\", T.LongType()),\n",
    "    T.StructField(\"id\", T.LongType()),\n",
    "    T.StructField(\"name\", T.StringType()),\n",
    "    T.StructField(\"cod\", T.LongType())\n",
    "])\n"
   ]
  },
  {
   "cell_type": "markdown",
   "metadata": {
    "application/vnd.databricks.v1+cell": {
     "cellMetadata": {},
     "inputWidgets": {},
     "nuid": "d10e06a6-e010-48af-a556-103aa6ed6522",
     "showTitle": false,
     "tableResultSettingsMap": {},
     "title": ""
    }
   },
   "source": [
    "## 3.0 Parse do payload\n",
    "\n",
    "\n"
   ]
  },
  {
   "cell_type": "code",
   "execution_count": 0,
   "metadata": {
    "application/vnd.databricks.v1+cell": {
     "cellMetadata": {
      "byteLimit": 2048000,
      "rowLimit": 10000
     },
     "inputWidgets": {},
     "nuid": "d93e1be3-ee89-442f-996c-01205730842b",
     "showTitle": false,
     "tableResultSettingsMap": {},
     "title": ""
    }
   },
   "outputs": [],
   "source": [
    "parsed = df_bronze.select(\n",
    "    F.from_json(F.col(\"json_line\"), weather_schema).alias(\"j\"),\n",
    "    F.col(\"obs_ts_utc\").alias(\"obs_utc\"),\n",
    "    F.col(\"ingestion_date\").alias(\"data_ingestao\")\n",
    ")\n",
    "\n",
    "silver = parsed.select(\n",
    "    F.col(\"j.id\").cast(\"bigint\").alias(\"id_cidade\"),\n",
    "    F.col(\"j.name\").alias(\"nome_cidade\"),\n",
    "    F.col(\"j.coord.lat\").alias(\"latitude\"),\n",
    "    F.col(\"j.coord.lon\").alias(\"longitude\"),\n",
    "    F.col(\"j.main.temp\").alias(\"temperatura_c\"),\n",
    "    F.col(\"j.main.feels_like\").alias(\"sensacao_c\"),\n",
    "    F.col(\"j.main.temp_min\").alias(\"temperatura_min_c\"),\n",
    "    F.col(\"j.main.temp_max\").alias(\"temperatura_max_c\"),\n",
    "    F.col(\"j.main.humidity\").alias(\"umidade_pct\"),\n",
    "    F.col(\"j.main.pressure\").alias(\"pressao_hpa\"),\n",
    "    F.col(\"j.main.sea_level\").alias(\"pressao_nivel_mar_hpa\"),\n",
    "    F.col(\"j.main.grnd_level\").alias(\"pressao_nivel_solo_hpa\"),\n",
    "    F.col(\"j.visibility\").cast(\"bigint\").alias(\"visibilidade_m\"),\n",
    "    F.col(\"j.wind.speed\").alias(\"velocidade_vento_ms\"),\n",
    "    F.col(\"j.wind.deg\").alias(\"vento_graus\"),\n",
    "    F.col(\"j.wind.gust\").alias(\"rajada_vento_ms\"),\n",
    "    F.col(\"j.clouds.all\").cast(\"bigint\").alias(\"nuvens_pct\"),\n",
    "    F.col(\"j.weather\")[0][\"main\"].alias(\"condicao\"),\n",
    "    F.col(\"j.weather\")[0][\"description\"].alias(\"condicao_desc\"),\n",
    "    F.from_utc_timestamp(F.col(\"obs_utc\"), \"America/Sao_Paulo\").alias(\"data_observacao\"),\n",
    "    F.col(\"data_ingestao\")\n",
    ")"
   ]
  },
  {
   "cell_type": "markdown",
   "metadata": {
    "application/vnd.databricks.v1+cell": {
     "cellMetadata": {},
     "inputWidgets": {},
     "nuid": "41628c7d-648b-4296-801f-13def7486279",
     "showTitle": false,
     "tableResultSettingsMap": {},
     "title": ""
    }
   },
   "source": [
    "## 4.0 Escreve na silver\n"
   ]
  },
  {
   "cell_type": "code",
   "execution_count": 0,
   "metadata": {
    "application/vnd.databricks.v1+cell": {
     "cellMetadata": {
      "byteLimit": 2048000,
      "rowLimit": 10000
     },
     "inputWidgets": {},
     "nuid": "79a0d15b-5f74-4237-93da-d4c51d5c7bdd",
     "showTitle": false,
     "tableResultSettingsMap": {},
     "title": ""
    }
   },
   "outputs": [],
   "source": [
    "(silver.write\n",
    "   .format(\"delta\")\n",
    "   .mode(\"append\")\n",
    "   .option(\"mergeSchema\", \"true\")\n",
    "   .saveAsTable(\"workspace.weather.silver_openweather\"))\n",
    "\n",
    "display(spark.table(\"workspace.weather.silver_openweather\")\n",
    "              .orderBy(F.col(\"data_ingestao\").desc(), F.col(\"nome_cidade\"))\n",
    "              .limit(10))"
   ]
  }
 ],
 "metadata": {
  "application/vnd.databricks.v1+notebook": {
   "computePreferences": null,
   "dashboards": [],
   "environmentMetadata": {
    "base_environment": "",
    "environment_version": "3"
   },
   "inputWidgetPreferences": null,
   "language": "python",
   "notebookMetadata": {
    "mostRecentlyExecutedCommandWithImplicitDF": {
     "commandId": 5198450629152433,
     "dataframes": [
      "_sqldf"
     ]
    },
    "pythonIndentUnit": 4
   },
   "notebookName": "silver_openweather",
   "widgets": {}
  },
  "language_info": {
   "name": "python"
  }
 },
 "nbformat": 4,
 "nbformat_minor": 0
}
